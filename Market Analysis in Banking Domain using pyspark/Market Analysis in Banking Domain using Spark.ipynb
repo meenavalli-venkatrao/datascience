{
 "cells": [
  {
   "cell_type": "code",
   "execution_count": 143,
   "metadata": {},
   "outputs": [],
   "source": [
    "#--------------------------------------------------------------#\n",
    "#### Market Analysis in Banking Domain by PySpark ####\n",
    "#--------------------------------------------------------------#\n",
    "## import libraies and define utility methods \n",
    "from collections import namedtuple\n",
    "import csv \n",
    "from io import StringIO\n",
    "\n",
    "from pyspark.sql import SQLContext\n",
    "\n",
    "import matplotlib.pyplot as plt\n",
    "import numpy as np\n",
    "%matplotlib inline\n",
    "import pandas as pd\n",
    "from pyspark.sql.types import StringType\n",
    "\n",
    "sqlContext = SQLContext(sc)\n",
    "fields   = 'age job marital education default balance housing loan contact month day_of_week duration campaign pdays  previous poutcome y'\n",
    "\n",
    "Bank = namedtuple('Bank', fields)\n",
    "\n",
    "def notHeader(row):\n",
    "    return \"age\" not in row\n",
    "\n",
    "def parse(row):\n",
    "    row[0]  = int(row[0])\n",
    "    row[5]  = int(row[5])\n",
    "    row[11]  = int(row[11])\n",
    "    row[12]  = int(row[12])\n",
    "    row[14]  = int(row[14])\n",
    "    return Bank(*row[:17])\n",
    "\n",
    "def split(line):\n",
    "    reader = csv.reader(StringIO(line))\n",
    "    return next(reader)"
   ]
  },
  {
   "cell_type": "code",
   "execution_count": 144,
   "metadata": {},
   "outputs": [
    {
     "data": {
      "text/plain": [
       "[Bank(age=44, job='technician', marital='single', education='secondary', default='no', balance=29, housing='yes', loan='no', contact='unknown', month='5', day_of_week='may', duration=151, campaign=1, pdays='-1', previous=0, poutcome='unknown', y='no'),\n",
       " Bank(age=33, job='entrepreneur', marital='married', education='secondary', default='no', balance=2, housing='yes', loan='yes', contact='unknown', month='5', day_of_week='may', duration=76, campaign=1, pdays='-1', previous=0, poutcome='unknown', y='no')]"
      ]
     },
     "execution_count": 144,
     "metadata": {},
     "output_type": "execute_result"
    }
   ],
   "source": [
    "#1.\tLoad data and create a Spark data frame\n",
    "lines= sc.textFile(\"C:\\\\Users\\\\HOME\\\\Downloads\\\\Project 1_dataset_bank.csv\")\n",
    "parsed=lines.map(lambda x: x.replace(\"\\\"\",\"\")).filter(notHeader).map(lambda x: x.split(';')).map(parse)\n",
    "parsed.take(2)\n",
    "\n"
   ]
  },
  {
   "cell_type": "code",
   "execution_count": 145,
   "metadata": {},
   "outputs": [],
   "source": [
    "#Register temptabale \n",
    "schemaBank = sqlContext.createDataFrame(parsed)\n",
    "schemaBank.registerTempTable(\"bank\")\n"
   ]
  },
  {
   "cell_type": "code",
   "execution_count": 146,
   "metadata": {},
   "outputs": [
    {
     "name": "stdout",
     "output_type": "stream",
     "text": [
      "Success Rate: 11.15%\n"
     ]
    }
   ],
   "source": [
    "#2.\tGive marketing success rate (No. of people subscribed / total no. of entries)   \n",
    "subscribed = sqlContext.sql(\"select count(*) from bank where y='yes'\").collect()[0][0]\n",
    "\n",
    "total = sqlContext.sql(\"select count(*) from bank \").collect()[0][0]\n",
    "successRate = (subscribed/total)*100\n",
    "successRate\n",
    "print(\"Success Rate: {:.2f}%\".format(successRate))"
   ]
  },
  {
   "cell_type": "code",
   "execution_count": 147,
   "metadata": {},
   "outputs": [
    {
     "name": "stdout",
     "output_type": "stream",
     "text": [
      "Not SubscribedRate Rate: 88.85%\n"
     ]
    }
   ],
   "source": [
    "#2.\tGive marketing non success rate (No. of people non subscribed / total no. of entries)   \n",
    "notsubscribed = sqlContext.sql(\"select count(*) from bank where y!='yes'\").collect()[0][0]\n",
    "notsubscribedRate= (notsubscribed/total)*100\n",
    "print(\"Not SubscribedRate Rate: {:.2f}%\".format(notsubscribedRate))\n"
   ]
  },
  {
   "cell_type": "code",
   "execution_count": 148,
   "metadata": {},
   "outputs": [
    {
     "name": "stdout",
     "output_type": "stream",
     "text": [
      "Max Age : 95 Years , Min Age : 18 Years , Avg_Age :41 Years\n"
     ]
    }
   ],
   "source": [
    "#1.\tGive the maximum, mean, and minimum age of the average targeted customer\n",
    "max_age = sqlContext.sql(\"select max(age) from bank\").collect()[0][0]\n",
    "min_age = sqlContext.sql(\"select min(age) from bank\").collect()[0][0]\n",
    "avg_age = sqlContext.sql(\"select avg(age) from bank\").collect()[0][0]\n",
    "\n",
    "print(\"Max Age : {} Years , Min Age : {} Years , Avg_Age :{:.0f} Years\".format(max_age,min_age,avg_age))"
   ]
  },
  {
   "cell_type": "code",
   "execution_count": 149,
   "metadata": {},
   "outputs": [
    {
     "name": "stdout",
     "output_type": "stream",
     "text": [
      "Average Balance :1256.10 , Median Balance 420.00\n"
     ]
    }
   ],
   "source": [
    "#2.\tCheck the quality of customers by checking average balance, median balance of customers\n",
    "avg_balance = sqlContext.sql(\"select avg(balance)  from bank\").collect()[0][0]\n",
    "median_balance = sqlContext.sql(\"select percentile(balance,0.5) from bank\").collect()[0][0]\n",
    "print(\"Average Balance :{:.2f} , Median Balance {:.2f}\".format(avg_balance,median_balance))"
   ]
  },
  {
   "cell_type": "code",
   "execution_count": 150,
   "metadata": {},
   "outputs": [
    {
     "data": {
      "image/png": "[encoded data removed]",
      "text/plain": [
       "<Figure size 1800x720 with 1 Axes>"
      ]
     },
     "metadata": {
      "needs_background": "light"
     },
     "output_type": "display_data"
    }
   ],
   "source": [
    "#3.\tCheck if age matters in marketing subscription for deposit\n",
    "agewise_sub= sqlContext.sql(\"select age, count(*) as count from bank where y='yes' group by age order by count desc \")\n",
    "pddf = agewise_sub.toPandas()\n",
    "ax =plt.figure(figsize=(25,10))\n",
    "plt.bar(pddf['age'], pddf['count'], align='center', alpha=0.5, color='rgbkyc')\n",
    "plt.ylabel('Count')\n",
    "plt.xlabel('Age')\n",
    "plt.title('Subscription by Age')\n",
    "\n",
    "plt.show()\n",
    "# Age 30-36 peoplare are subscribed most"
   ]
  },
  {
   "cell_type": "code",
   "execution_count": 151,
   "metadata": {},
   "outputs": [
    {
     "data": {
      "image/png": "[encoded data removed]",
      "text/plain": [
       "<Figure size 432x288 with 1 Axes>"
      ]
     },
     "metadata": {
      "needs_background": "light"
     },
     "output_type": "display_data"
    }
   ],
   "source": [
    "#4.\tCheck if marital status mattered for a subscription to deposit\n",
    "marital_sub= sqlContext.sql(\"select marital, count(*) as count from bank where y='yes' group by marital order by count desc \")\n",
    "mdf = marital_sub.toPandas()\n",
    "x_pos = np.arange(len(mdf['marital']))\n",
    "plt.bar(x_pos, mdf['count'], align='center', alpha=0.5, color='rgb')\n",
    "plt.xticks(x_pos, mdf['marital'])\n",
    "plt.ylabel('Count')\n",
    "plt.xlabel('Marital')\n",
    "plt.title('Subscription by Marital')\n",
    "\n",
    "plt.show()\n",
    "\n",
    "## married people are subscriped most"
   ]
  },
  {
   "cell_type": "code",
   "execution_count": 180,
   "metadata": {},
   "outputs": [
    {
     "data": {
      "text/html": [
       "<div>\n",
       "<style scoped>\n",
       "    .dataframe tbody tr th:only-of-type {\n",
       "        vertical-align: middle;\n",
       "    }\n",
       "\n",
       "    .dataframe tbody tr th {\n",
       "        vertical-align: top;\n",
       "    }\n",
       "\n",
       "    .dataframe thead th {\n",
       "        text-align: right;\n",
       "    }\n",
       "</style>\n",
       "<table border=\"1\" class=\"dataframe\">\n",
       "  <thead>\n",
       "    <tr style=\"text-align: right;\">\n",
       "      <th></th>\n",
       "      <th></th>\n",
       "      <th>count</th>\n",
       "    </tr>\n",
       "    <tr>\n",
       "      <th>marital</th>\n",
       "      <th>age</th>\n",
       "      <th></th>\n",
       "    </tr>\n",
       "  </thead>\n",
       "  <tbody>\n",
       "    <tr>\n",
       "      <th rowspan=\"6\" valign=\"top\">single</th>\n",
       "      <th>30</th>\n",
       "      <td>105</td>\n",
       "    </tr>\n",
       "    <tr>\n",
       "      <th>28</th>\n",
       "      <td>102</td>\n",
       "    </tr>\n",
       "    <tr>\n",
       "      <th>26</th>\n",
       "      <td>95</td>\n",
       "    </tr>\n",
       "    <tr>\n",
       "      <th>29</th>\n",
       "      <td>92</td>\n",
       "    </tr>\n",
       "    <tr>\n",
       "      <th>27</th>\n",
       "      <td>88</td>\n",
       "    </tr>\n",
       "    <tr>\n",
       "      <th>25</th>\n",
       "      <td>88</td>\n",
       "    </tr>\n",
       "    <tr>\n",
       "      <th>married</th>\n",
       "      <th>34</th>\n",
       "      <td>84</td>\n",
       "    </tr>\n",
       "    <tr>\n",
       "      <th>single</th>\n",
       "      <th>32</th>\n",
       "      <td>83</td>\n",
       "    </tr>\n",
       "    <tr>\n",
       "      <th>married</th>\n",
       "      <th>35</th>\n",
       "      <td>71</td>\n",
       "    </tr>\n",
       "    <tr>\n",
       "      <th>single</th>\n",
       "      <th>31</th>\n",
       "      <td>70</td>\n",
       "    </tr>\n",
       "    <tr>\n",
       "      <th rowspan=\"4\" valign=\"top\">married</th>\n",
       "      <th>33</th>\n",
       "      <td>69</td>\n",
       "    </tr>\n",
       "    <tr>\n",
       "      <th>32</th>\n",
       "      <td>68</td>\n",
       "    </tr>\n",
       "    <tr>\n",
       "      <th>47</th>\n",
       "      <td>67</td>\n",
       "    </tr>\n",
       "    <tr>\n",
       "      <th>36</th>\n",
       "      <td>66</td>\n",
       "    </tr>\n",
       "    <tr>\n",
       "      <th>single</th>\n",
       "      <th>33</th>\n",
       "      <td>63</td>\n",
       "    </tr>\n",
       "    <tr>\n",
       "      <th rowspan=\"5\" valign=\"top\">married</th>\n",
       "      <th>46</th>\n",
       "      <td>61</td>\n",
       "    </tr>\n",
       "    <tr>\n",
       "      <th>37</th>\n",
       "      <td>61</td>\n",
       "    </tr>\n",
       "    <tr>\n",
       "      <th>39</th>\n",
       "      <td>61</td>\n",
       "    </tr>\n",
       "    <tr>\n",
       "      <th>60</th>\n",
       "      <td>60</td>\n",
       "    </tr>\n",
       "    <tr>\n",
       "      <th>38</th>\n",
       "      <td>60</td>\n",
       "    </tr>\n",
       "  </tbody>\n",
       "</table>\n",
       "</div>"
      ],
      "text/plain": [
       "             count\n",
       "marital age       \n",
       "single  30     105\n",
       "        28     102\n",
       "        26      95\n",
       "        29      92\n",
       "        27      88\n",
       "        25      88\n",
       "married 34      84\n",
       "single  32      83\n",
       "married 35      71\n",
       "single  31      70\n",
       "married 33      69\n",
       "        32      68\n",
       "        47      67\n",
       "        36      66\n",
       "single  33      63\n",
       "married 46      61\n",
       "        37      61\n",
       "        39      61\n",
       "        60      60\n",
       "        38      60"
      ]
     },
     "execution_count": 180,
     "metadata": {},
     "output_type": "execute_result"
    }
   ],
   "source": [
    "#5.\tCheck if age and marital status together mattered for a subscription to deposit scheme\n",
    "both_sub= sqlContext.sql(\"select marital,age, count(*) as count from bank where y='yes' group by marital,age order by count desc \")\n",
    "bdf = both_sub.toPandas()\n",
    "#bdf.head(20)\n",
    "bdf.set_index(['marital', 'age'], inplace=True)\n",
    "\n",
    "bdf.head(20)\n",
    "\n",
    "## Single and age 25-30 shows more subscried\n"
   ]
  },
  {
   "cell_type": "code",
   "execution_count": 133,
   "metadata": {},
   "outputs": [
    {
     "data": {
      "text/html": [
       "<div>\n",
       "<style scoped>\n",
       "    .dataframe tbody tr th:only-of-type {\n",
       "        vertical-align: middle;\n",
       "    }\n",
       "\n",
       "    .dataframe tbody tr th {\n",
       "        vertical-align: top;\n",
       "    }\n",
       "\n",
       "    .dataframe thead th {\n",
       "        text-align: right;\n",
       "    }\n",
       "</style>\n",
       "<table border=\"1\" class=\"dataframe\">\n",
       "  <thead>\n",
       "    <tr style=\"text-align: right;\">\n",
       "      <th></th>\n",
       "      <th>new_age</th>\n",
       "      <th>count</th>\n",
       "    </tr>\n",
       "  </thead>\n",
       "  <tbody>\n",
       "    <tr>\n",
       "      <th>0</th>\n",
       "      <td>Middle Aged</td>\n",
       "      <td>1884</td>\n",
       "    </tr>\n",
       "    <tr>\n",
       "      <th>1</th>\n",
       "      <td>Young</td>\n",
       "      <td>1167</td>\n",
       "    </tr>\n",
       "    <tr>\n",
       "      <th>2</th>\n",
       "      <td>Old</td>\n",
       "      <td>919</td>\n",
       "    </tr>\n",
       "    <tr>\n",
       "      <th>3</th>\n",
       "      <td>Teen</td>\n",
       "      <td>18</td>\n",
       "    </tr>\n",
       "  </tbody>\n",
       "</table>\n",
       "</div>"
      ],
      "text/plain": [
       "       new_age  count\n",
       "0  Middle Aged   1884\n",
       "1        Young   1167\n",
       "2          Old    919\n",
       "3         Teen     18"
      ]
     },
     "execution_count": 133,
     "metadata": {},
     "output_type": "execute_result"
    }
   ],
   "source": [
    "#6.\tDo feature engineering for the bank and find the right age effect on the campaign.\n",
    "\n",
    "\n",
    "def groupAge(age):\n",
    "    group=\"\";\n",
    "    if (age < 20):\n",
    "        group=\"Teen\"\n",
    "    elif (age > 20 and age <= 32):\n",
    "        group=\"Young\"\n",
    "    elif (age > 33 and age <= 55):\n",
    "        group=\"Middle Aged\"\n",
    "    else:\n",
    "        group=\"Old\"\n",
    "    return group\n",
    "\n",
    "from pyspark.sql.types import StringType\n",
    "sqlContext.registerFunction(\"ageRDD\", lambda x: groupAge(x), StringType())\n",
    "#sqlContext.sql(\"SELECT ageRDD(52)\").collect()\n",
    "\n",
    "new_agewise_sub= sqlContext.sql(\"select ageRDD(age) as new_age, * from bank where y='yes' \")\n",
    "new_agewise_sub.registerTempTable(\"bank_new\")\n",
    "\n",
    "\n",
    "new_agewise_df= sqlContext.sql(\"select new_age, count(*) as count from bank_new where y='yes' group by new_age order by count desc \")\n",
    "nbdf = new_agewise_df.toPandas()\n",
    "nbdf.head(5)\n",
    "\n",
    "#  Middle-Aged pepople are more subscriped"
   ]
  },
  {
   "cell_type": "code",
   "execution_count": 134,
   "metadata": {},
   "outputs": [
    {
     "data": {
      "image/png": "[encoded data removed]",
      "text/plain": [
       "<Figure size 432x288 with 1 Axes>"
      ]
     },
     "metadata": {},
     "output_type": "display_data"
    }
   ],
   "source": [
    "# View by bar chart\n",
    "x_pos = np.arange(len(nbdf['new_age']))\n",
    "plt.bar(x_pos, nbdf['count'], align='center', alpha=0.5, color='rgb')\n",
    "plt.xticks(x_pos, nbdf['new_age'])\n",
    "plt.ylabel('Count')\n",
    "plt.xlabel('Age Group')\n",
    "plt.title('Subscription by Age Group')\n",
    "\n",
    "plt.show()\n",
    "\n",
    "#   Middle-Aged pepople are more subscriped.So we need to target Middle aged people  "
   ]
  },
  {
   "cell_type": "code",
   "execution_count": 142,
   "metadata": {},
   "outputs": [
    {
     "name": "stdout",
     "output_type": "stream",
     "text": [
      "+-----------+--------+\n",
      "|    new_age|ageIndex|\n",
      "+-----------+--------+\n",
      "|        Old|     2.0|\n",
      "|        Old|     2.0|\n",
      "|Middle Aged|     0.0|\n",
      "|Middle Aged|     0.0|\n",
      "|Middle Aged|     0.0|\n",
      "|        Old|     2.0|\n",
      "|Middle Aged|     0.0|\n",
      "|Middle Aged|     0.0|\n",
      "|Middle Aged|     0.0|\n",
      "|Middle Aged|     0.0|\n",
      "|      Young|     1.0|\n",
      "|      Young|     1.0|\n",
      "|Middle Aged|     0.0|\n",
      "|Middle Aged|     0.0|\n",
      "|Middle Aged|     0.0|\n",
      "|Middle Aged|     0.0|\n",
      "|Middle Aged|     0.0|\n",
      "|      Young|     1.0|\n",
      "|Middle Aged|     0.0|\n",
      "|      Young|     1.0|\n",
      "+-----------+--------+\n",
      "only showing top 20 rows\n",
      "\n"
     ]
    }
   ],
   "source": [
    "from pyspark.ml.feature import StringIndexer\n",
    "indexer = StringIndexer(inputCol=\"new_age\", outputCol=\"ageIndex\")\n",
    "model = indexer.fit(new_agewise_sub)\n",
    "model.transform(new_agewise_sub).select(\"new_age\",\"ageIndex\").show(20)\n",
    "#  Middle-Aged pepople are more frequent "
   ]
  },
  {
   "cell_type": "code",
   "execution_count": null,
   "metadata": {},
   "outputs": [],
   "source": []
  }
 ],
 "metadata": {
  "kernelspec": {
   "display_name": "Python 3",
   "language": "python",
   "name": "python3"
  },
  "language_info": {
   "codemirror_mode": {
    "name": "ipython",
    "version": 3
   },
   "file_extension": ".py",
   "mimetype": "text/x-python",
   "name": "python",
   "nbconvert_exporter": "python",
   "pygments_lexer": "ipython3",
   "version": "3.7.3"
  }
 },
 "nbformat": 4,
 "nbformat_minor": 2
}
