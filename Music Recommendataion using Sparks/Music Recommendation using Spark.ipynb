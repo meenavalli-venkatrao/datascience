{
 "cells": [
  {
   "cell_type": "code",
   "execution_count": 21,
   "metadata": {},
   "outputs": [],
   "source": [
    "# Download data set from http://www.iro.umontreal.ca/~lisa/datasets/profiledata_06-May-2005.tar.gz\n",
    "data = sc.textFile(r\"C:\\Users\\HOME\\Downloads\\profiledata_06-May-2005.tar\\profiledata_06-May-2005\\user_artist_data.txt\")"
   ]
  },
  {
   "cell_type": "code",
   "execution_count": 22,
   "metadata": {},
   "outputs": [
    {
     "data": {
      "text/plain": [
       "['1000002 1 55',\n",
       " '1000002 1000006 33',\n",
       " '1000002 1000007 8',\n",
       " '1000002 1000009 144',\n",
       " '1000002 1000010 314']"
      ]
     },
     "execution_count": 22,
     "metadata": {},
     "output_type": "execute_result"
    }
   ],
   "source": [
    "data.take(5)"
   ]
  },
  {
   "cell_type": "code",
   "execution_count": 16,
   "metadata": {},
   "outputs": [
    {
     "data": {
      "text/plain": [
       "(count: 24296858, mean: 15.295762480893721, stdev: 153.91532130241015, max: 439771.0, min: 1.0)"
      ]
     },
     "execution_count": 16,
     "metadata": {},
     "output_type": "execute_result"
    }
   ],
   "source": [
    "data.map(lambda c:c.split(\" \")).map(lambda c: float(c[2])). stats()"
   ]
  },
  {
   "cell_type": "code",
   "execution_count": 23,
   "metadata": {},
   "outputs": [],
   "source": [
    "from pyspark.mllib.recommendation import Rating, ALS"
   ]
  },
  {
   "cell_type": "code",
   "execution_count": 24,
   "metadata": {},
   "outputs": [
    {
     "data": {
      "text/plain": [
       "PythonRDD[26] at RDD at PythonRDD.scala:53"
      ]
     },
     "execution_count": 24,
     "metadata": {},
     "output_type": "execute_result"
    }
   ],
   "source": [
    "mdata = data.map(lambda c:c.split(\" \")).filter(lambda x: float(x[2])>=20).map(lambda x: Rating(x[0],x[1],x[2]))\n",
    "mdata.persist()"
   ]
  },
  {
   "cell_type": "code",
   "execution_count": 25,
   "metadata": {},
   "outputs": [
    {
     "data": {
      "text/plain": [
       "[Rating(user=1000002, product=1, rating=55.0),\n",
       " Rating(user=1000002, product=1000006, rating=33.0),\n",
       " Rating(user=1000002, product=1000009, rating=144.0),\n",
       " Rating(user=1000002, product=1000010, rating=314.0),\n",
       " Rating(user=1000002, product=1000014, rating=42.0),\n",
       " Rating(user=1000002, product=1000017, rating=69.0),\n",
       " Rating(user=1000002, product=1000024, rating=329.0),\n",
       " Rating(user=1000002, product=1000031, rating=47.0),\n",
       " Rating(user=1000002, product=1000055, rating=25.0),\n",
       " Rating(user=1000002, product=1000062, rating=71.0)]"
      ]
     },
     "execution_count": 25,
     "metadata": {},
     "output_type": "execute_result"
    }
   ],
   "source": [
    "mdata.take(10)"
   ]
  },
  {
   "cell_type": "code",
   "execution_count": 27,
   "metadata": {},
   "outputs": [],
   "source": [
    "model =ALS.trainImplicit(mdata,10,5,0.01)"
   ]
  },
  {
   "cell_type": "code",
   "execution_count": 29,
   "metadata": {},
   "outputs": [
    {
     "data": {
      "text/plain": [
       "[Rating(user=1000002, product=1000113, rating=1.01935316307648),\n",
       " Rating(user=1000002, product=1274, rating=1.0051775040118294),\n",
       " Rating(user=1000002, product=82, rating=1.0023858859847559),\n",
       " Rating(user=1000002, product=1394, rating=0.904804830540508),\n",
       " Rating(user=1000002, product=979, rating=0.8400976115585246)]"
      ]
     },
     "execution_count": 29,
     "metadata": {},
     "output_type": "execute_result"
    }
   ],
   "source": [
    "user = 1000002\n",
    "recommendations=model.recommendProducts(user,5)\n",
    "recommendations"
   ]
  },
  {
   "cell_type": "code",
   "execution_count": 30,
   "metadata": {},
   "outputs": [
    {
     "data": {
      "text/plain": [
       "PythonRDD[292] at RDD at PythonRDD.scala:53"
      ]
     },
     "execution_count": 30,
     "metadata": {},
     "output_type": "execute_result"
    }
   ],
   "source": [
    "artists = sc.textFile(r\"C:\\Users\\HOME\\Downloads\\profiledata_06-May-2005.tar\\profiledata_06-May-2005\\artist_data.txt\").map(lambda x:x.split(\"\\t\"))\n",
    "artists.persist()"
   ]
  },
  {
   "cell_type": "code",
   "execution_count": 31,
   "metadata": {},
   "outputs": [
    {
     "data": {
      "text/plain": [
       "[['1134999', '06Crazy Life'],\n",
       " ['6821360', 'Pang Nakarin'],\n",
       " ['10113088', 'Terfel, Bartoli- Mozart: Don'],\n",
       " ['10151459', 'The Flaming Sidebur'],\n",
       " ['6826647', 'Bodenstandig 3000']]"
      ]
     },
     "execution_count": 31,
     "metadata": {},
     "output_type": "execute_result"
    }
   ],
   "source": [
    "artists.take(5)"
   ]
  },
  {
   "cell_type": "code",
   "execution_count": 32,
   "metadata": {},
   "outputs": [],
   "source": [
    "userArtists=data\\\n",
    "    .map(lambda x:x.split(\" \"))\\\n",
    "    .filter(lambda x:int(x[0])==user and int(x[2])>50)\\\n",
    "    .map(lambda x:x[1]).collect()"
   ]
  },
  {
   "cell_type": "code",
   "execution_count": 36,
   "metadata": {},
   "outputs": [
    {
     "name": "stdout",
     "output_type": "stream",
     "text": [
      "['Portishead']\n",
      "['A Perfect Circle']\n",
      "['Aerosmith']\n",
      "['Judas Priest']\n",
      "['Metallica']\n",
      "['Foo Fighters']\n",
      "['Counting Crows']\n",
      "['Creed']\n",
      "['Audioslave']\n",
      "['Muse']\n",
      "['(hed) Planet Earth']\n",
      "['Dire Straits']\n",
      "['Free']\n",
      "[\"Fun Lovin' Criminals\"]\n",
      "[\"Guns N' Roses\"]\n",
      "['Satriani, Joe']\n",
      "['A']\n",
      "['Joe Satriani']\n",
      "['Bruce Springsteen']\n",
      "['Goo Goo Dolls']\n",
      "['Fugees']\n",
      "['Michael Jackson']\n",
      "['Roachford']\n",
      "['Barenaked Ladies']\n",
      "['Buckcherry']\n",
      "['Jools Holland']\n",
      "['The Classic Chill Out Album']\n",
      "['Frankie Goes To Hollywood']\n",
      "[\"King's X\"]\n",
      "['Mr. Big']\n",
      "['Dave Weckl']\n",
      "['Dan Reed Network']\n",
      "['Liquid Tension Experiment']\n",
      "['Level 42']\n",
      "['Rage Against the Machine']\n",
      "['Badly Drawn Boy']\n",
      "['Beth Orton']\n",
      "['Dido']\n",
      "['Lenny Kravitz']\n",
      "['Everclear']\n",
      "['Feeder']\n",
      "['Jimi Hendrix']\n",
      "['Red Hot Chili Peppers']\n",
      "['R.E.M.']\n",
      "['Desert Sessions']\n",
      "['The Kleptones']\n",
      "['Jamiroquai']\n",
      "['Led Zeppelin']\n",
      "['Marcus Miller']\n",
      "['Moby']\n",
      "['Miles Davis']\n",
      "['Electric Wizard']\n",
      "['Matchbox Twenty']\n",
      "['The Police']\n",
      "['Nina Simone']\n",
      "['Jeff Buckley']\n",
      "['Dream Theater']\n",
      "['Eels']\n",
      "['Nickelback']\n",
      "['Diana Krall']\n",
      "['The Jimi Hendrix Experience']\n",
      "['Pink']\n",
      "['Rammstein']\n",
      "['Norah Jones']\n",
      "['Ben Folds Five']\n",
      "['Radiohead']\n"
     ]
    }
   ],
   "source": [
    "for artist in userArtists: \n",
    "    print(artists.lookup(artist))"
   ]
  },
  {
   "cell_type": "code",
   "execution_count": 37,
   "metadata": {},
   "outputs": [
    {
     "name": "stdout",
     "output_type": "stream",
     "text": [
      "['The Beatles']\n",
      "['Red Hot Chili Peppers']\n",
      "['Pink Floyd']\n",
      "['Led Zeppelin']\n",
      "['Radiohead']\n"
     ]
    }
   ],
   "source": [
    "for rating in recommendations: \n",
    "    print( artists.lookup(str(rating.product)))"
   ]
  },
  {
   "cell_type": "code",
   "execution_count": null,
   "metadata": {},
   "outputs": [],
   "source": []
  }
 ],
 "metadata": {
  "kernelspec": {
   "display_name": "Python 3",
   "language": "python",
   "name": "python3"
  },
  "language_info": {
   "codemirror_mode": {
    "name": "ipython",
    "version": 3
   },
   "file_extension": ".py",
   "mimetype": "text/x-python",
   "name": "python",
   "nbconvert_exporter": "python",
   "pygments_lexer": "ipython3",
   "version": "3.7.3"
  }
 },
 "nbformat": 4,
 "nbformat_minor": 2
}
